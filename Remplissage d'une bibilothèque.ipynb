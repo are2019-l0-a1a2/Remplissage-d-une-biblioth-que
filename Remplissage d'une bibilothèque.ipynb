{
 "cells": [
  {
   "cell_type": "code",
   "execution_count": 47,
   "metadata": {},
   "outputs": [],
   "source": [
    "%matplotlib inline     \n",
    "# ^Sans animations\n",
    "# %matplotlib notebook \n",
    "# ^Avec animations\n",
    "import numpy as np\n",
    "import matplotlib.pyplot as plt\n",
    "from matplotlib import animation"
   ]
  },
  {
   "cell_type": "markdown",
   "metadata": {},
   "source": [
    " **Remplissage d'une bibliothèque**\n",
    " "
   ]
  },
  {
   "cell_type": "markdown",
   "metadata": {},
   "source": [
    "Nous allons modeliser l'évolution de l'affluence dans la bibliothèque des Licences au cours du temps."
   ]
  },
  {
   "cell_type": "markdown",
   "metadata": {},
   "source": [
    "Nous disposons des horaires et du nombre de place de la bibliothèque "
   ]
  },
  {
   "cell_type": "code",
   "execution_count": 48,
   "metadata": {},
   "outputs": [],
   "source": [
    "# aff : le taux d'affluence actuelle\n",
    "# afflim : le taux d'affluence à partir duquel la personne hésite\n",
    "# p1 : la probabilité que la personne ne rentre pas dans la bibliothèque\n",
    "\n",
    "def alea_entree(aff,afflim,p1):\n",
    "    '''\n",
    "    float->int\n",
    "    en fonction du taux d'affluence et d'une probabilité ,retourne 1 si l'élève rentre, sinon 0.\n",
    "    '''\n",
    "    if aff>=afflim :\n",
    "        u = np.random.random() # u est un nombre aléatoire entre 0 et 1\n",
    "        if u < p1: \n",
    "            return 0\n",
    "    return 1"
   ]
  },
  {
   "cell_type": "code",
   "execution_count": 49,
   "metadata": {},
   "outputs": [],
   "source": [
    "# aff : le taux d'affluence actuelle\n",
    "# afflim : le taux d'affluence à partir duquel la personne hésite\n",
    "# p2 : la probabilité que la personne ne sort pas de la bibliothèque\n",
    "\n",
    "p2 =.95\n",
    "def alea_sortie(aff,afflim,p2):\n",
    "    '''\n",
    "    float->int\n",
    "    en fonction du taux d'affluence et d'une probabilité p2,retourne 1 si l'élève sort, sinon 0 0.\n",
    "    '''\n",
    "    if aff>=afflim :\n",
    "        u = np.random.random()  # u est un nombre aléatoire entre 0 et 1\n",
    "        if u < p2: \n",
    "            return 0\n",
    "        else:\n",
    "            return 1\n",
    "    return 0"
   ]
  },
  {
   "cell_type": "code",
   "execution_count": 50,
   "metadata": {},
   "outputs": [],
   "source": [
    "#bt0: nombre initial de personne dans la bibliothèque. \n",
    "#btmax: nombre de places de la bibliothèque.\n",
    "# aff : le taux d'affluence actuelle\n",
    "# afflim : le taux d'affluence à partir duquel la personne hésite\n",
    "# p1 : la probabilité que la personne ne rentre pas dans la bibliothèque\n",
    "# p2 : la probabilité que la personne ne sort pas de la bibliothèque\n",
    "#n : nombre de cycle entrée/sortie\n",
    "\n",
    "def bibliothèque(bt0,btmax,afflim,p1,p2,n):\n",
    "    ''' hyp : bt0 <= btmax\n",
    "        Evolution du nombre de place occupé dans la bibliothèque.'''\n",
    "    \n",
    "    bt=bt0\n",
    "    aff=bt/btmax\n",
    "    L=[bt0] #Evolution de l'occupation\n",
    "    for i in range(n):\n",
    "        a = alea_entree(aff,afflim,p1)\n",
    "        b = alea_sortie(aff,afflim,p2)\n",
    "        if bt < btmax:\n",
    "            bt += a\n",
    "        if bt>0:\n",
    "            bt-=b\n",
    "        L.append(bt)\n",
    "        aff=bt/btmax\n",
    "    return L\n",
    "        \n",
    "        \n",
    "        \n",
    "        "
   ]
  },
  {
   "cell_type": "markdown",
   "metadata": {},
   "source": [
    "affichons la courbe de l'évolution de l'occupation de la bibliothèque sur un nombre de tour"
   ]
  },
  {
   "cell_type": "code",
   "execution_count": 51,
   "metadata": {},
   "outputs": [
    {
     "data": {
      "image/png": "[encoded data removed]",
      "text/plain": [
       "<Figure size 432x288 with 1 Axes>"
      ]
     },
     "metadata": {},
     "output_type": "display_data"
    }
   ],
   "source": [
    "def plotb0(L):\n",
    "    plt.figure()\n",
    "    plt.plot(L)\n",
    "    plt.ylabel(\"Nombre de personne dans la bibliothèque\")\n",
    "    plt.xlabel(\"nombre de tour\")\n",
    "    plt.show()\n",
    "    return\n",
    "plotb0(bibliothèque(700,745,.8,.9,.95,200))"
   ]
  },
  {
   "cell_type": "markdown",
   "metadata": {},
   "source": [
    "Ici nous etudions l'evolution du remplissage de la bibliothèque en fonction du temps "
   ]
  },
  {
   "cell_type": "code",
   "execution_count": 52,
   "metadata": {},
   "outputs": [],
   "source": [
    "# Exemple : horaire pour la BDL\n",
    "horaire = [(9,22) , (9,22) , (9,22) , (9,22) , (9,22) , (10,20),(0,0)]\n",
    "\n",
    "def est_ouvert(heure,jour,horaire):\n",
    "    '''float * int * dict[tuple] -> bool\n",
    "    indique si la bibliotheque est ouverte ou fermée en fonction de l'heure actuelle 'heure', \n",
    "    du jour de la semaine 'jour' et des horaires d'ouverture 'horaire'  '''\n",
    "    \n",
    "    date = horaire[jour]\n",
    "    if date!= (0,0):\n",
    "        ouverture = date[0]\n",
    "        fermeture = date[1]\n",
    "        return ouverture <= heure < fermeture\n",
    "    return False"
   ]
  },
  {
   "cell_type": "code",
   "execution_count": 53,
   "metadata": {},
   "outputs": [
    {
     "name": "stdout",
     "output_type": "stream",
     "text": [
      "False\n"
     ]
    }
   ],
   "source": [
    "# Exemple : On teste si la bibliothèque est ouverte le lundi à 11h.\n",
    "print( est_ouvert(23,0,horaire) )"
   ]
  },
  {
   "cell_type": "markdown",
   "metadata": {},
   "source": [
    "Nouvelle modélisation en tenant compte du paramètre horaire.\n",
    "De plus, nous introduirons trois nouvelles fonctions : nb_entre, nb_sortie et aff_actu.\n"
   ]
  },
  {
   "cell_type": "markdown",
   "metadata": {},
   "source": [
    "***Nous avons collecté les affluences de la bibliothèque des licences pour une semaine.\n",
    "Avec notre modèle, nous allons essayer de retrouver ces données.***"
   ]
  },
  {
   "cell_type": "code",
   "execution_count": 54,
   "metadata": {},
   "outputs": [],
   "source": [
    "#affluence selon l'heure et le jour. Toutes les listes ont le même nombre d'éléments.\n",
    "#On comble les trous s'il y en a.(samedi)\n",
    "\n",
    "semaine = {'lundi' : [0.17, 0.33, 0.42, 0.5, 0.58, 0.58, 0.67, 0.75, 0.83, 0.92, 0.75, 0.5, 0.25] , \n",
    " 'mardi' : [0.08, 0.17, 0.25, 0.33, 0.42, 0.42, 0.42, 0.5, 0.58, 0.58, 0.5, 0.33, 0.17] , \n",
    " 'mercredi' : [0.17, 0.33, 0.42, 0.5, 0.5, 0.5, 0.58, 0.58, 0.58, 0.5, 0.33, 0.25, 0.08] ,\n",
    " 'jeudi' : [0.08, 0.17, 0.25, 0.33, 0.5, 0.58, 0.5, 0.5, 0.67, 0.75, 0.67, 0.42, 0.17] , \n",
    " 'vendredi' : [0.08, 0.25, 0.5, 0.58, 0.67, 0.83, 0.83, 0.67, 0.67, 0.67, 0.67, 0.42, 0.17] , \n",
    " 'samedi' : [0,0.25, 0.75, 0.58, 0.75, 0.92, 0.83, 0.83, 1.0, 0.75, 0.25,0,0] }"
   ]
  },
  {
   "cell_type": "code",
   "execution_count": 55,
   "metadata": {},
   "outputs": [
    {
     "name": "stdout",
     "output_type": "stream",
     "text": [
      "0.58\n"
     ]
    }
   ],
   "source": [
    "def aff_actu(heure,jour):\n",
    "    # modelise le nombre de cycle entrée/sortie en fonction de l'heure.\n",
    "    #convertir jours en int\n",
    "    x=semaine[jour][heure-9]#,.values()\n",
    "    print (x)\n",
    "    return \n",
    "aff_actu(0,\"lundi\")"
   ]
  },
  {
   "cell_type": "code",
   "execution_count": 56,
   "metadata": {},
   "outputs": [],
   "source": [
    "#tirage aléatoire du nombre d'entrée\n",
    "\n",
    "# aff : le taux d'affluence actuelle\n",
    "# afflim : le taux d'affluence à partir duquel la personne hésite\n",
    "# p1 : la probabilité que la personne ne rentre pas dans la bibliothèque\n",
    "#emax : nombre de place restant\n",
    "#t: heure actuelle\n",
    "#nb: nombre de tirage\n",
    "# s: nombre de personnes qui entrent\n",
    "# phase : découpage de la journée en plusieurs phases\n",
    "\n",
    "def nb_entre(aff,afflim,p1,emax):\n",
    "    s=0\n",
    "    nb= 10\n",
    "    nb=np.random.randint(0,nb)\n",
    "    if nb>emax:\n",
    "        nb = emax\n",
    "    for i in range(nb):\n",
    "        s += alea_entree(aff,afflim,p1)\n",
    "    return s\n"
   ]
  },
  {
   "cell_type": "code",
   "execution_count": 57,
   "metadata": {},
   "outputs": [],
   "source": [
    "#idem que pour nb_entre\n",
    "\n",
    "def nb_sortie(aff,afflim,p2,bt):\n",
    "    s=0\n",
    "    nb= 10\n",
    "    nb=np.random.randint(0,nb)\n",
    "    if nb>bt:\n",
    "        nb = bt \n",
    "        \n",
    "    for i in range(nb):\n",
    "        s += alea_sortie(aff,afflim,p2)\n",
    "    return s\n"
   ]
  },
  {
   "cell_type": "code",
   "execution_count": 58,
   "metadata": {},
   "outputs": [],
   "source": [
    "# Bibliothèquetemp permet  en fonction des horaires d'ouverture de la bibliothèque\n",
    "# et de l'heure de la journée de faire des entrée/sortie multiple.\n",
    "\n",
    "#bt0: nombre initial de personne dans la bibliothèque. \n",
    "# bt : nombre de personne dans la bibliothèque à l'instant t\n",
    "#btmax: nombre de places de la bibliothèque.\n",
    "# aff : le taux d'affluence actuelle\n",
    "# afflim : le taux d'affluence à partir duquel la personne hésite\n",
    "# p1 : la probabilité que la personne ne rentre pas dans la bibliothèque\n",
    "# p2 : la probabilité que la personne ne sort pas de la bibliothèque\n",
    "# On fera un cycle de 24h\n",
    "\n",
    "# Exemple : horaire pour la BDL\n",
    "horaire = [(9,22) , (9,22) , (9,22) , (9,22) , (9,22) , (10,20),(0,0)]\n",
    "\n",
    "def bibliothèquetemp(bt0,btmax,afflim,p1,p2,jour):\n",
    "                    #(int,int,float,float,float,int)\n",
    "    ''' hyp : bt0 <= bt'''\n",
    "    bt=bt0\n",
    "    aff=bt/btmax\n",
    "    L=[bt0]\n",
    "    for t in range(24):\n",
    "        if est_ouvert(t,jour,horaire):\n",
    "            emax = btmax-bt\n",
    "            a = nb_entre(aff,afflim,p1,emax,t)\n",
    "            b = nb_sortie(aff,afflim,p2,bt)\n",
    "            if bt < btmax:\n",
    "                bt += a\n",
    "            if bt>0:\n",
    "                bt-=b\n",
    "        else:\n",
    "            bt=0\n",
    "        L.append(bt)\n",
    "        aff=bt/btmax\n",
    "    return L\n",
    "        \n",
    "    \n"
   ]
  },
  {
   "cell_type": "markdown",
   "metadata": {},
   "source": [
    "affichons la courbe"
   ]
  },
  {
   "cell_type": "code",
   "execution_count": 84,
   "metadata": {},
   "outputs": [
    {
     "data": {
      "image/png": "[encoded data removed]",
      "text/plain": [
       "<Figure size 432x288 with 1 Axes>"
      ]
     },
     "metadata": {},
     "output_type": "display_data"
    }
   ],
   "source": [
    "def plotb1(L):\n",
    "    plt.figure()\n",
    "    plt.plot(L)\n",
    "    plt.ylabel(\"Nombre de personne dans la bibliothèque\")\n",
    "    plt.xlabel(\"nombre d'heures\")\n",
    "    plt.xticks([i for i in range(0,25,2)])\n",
    "    plt.show()\n",
    "    return \n",
    "plotb1(bibliothèquetemp(0,745,.8,.9,.95,0))\n",
    "                      #(bt0,btmax,afflim,p1,p2,jour)"
   ]
  },
  {
   "cell_type": "markdown",
   "metadata": {},
   "source": [
    "#t0,btmax,afflim,p1,p2,n\n",
    "\n",
    "nous voyons que plus la probabilité p1 de ne pas entrer est plus grande\n"
   ]
  },
  {
   "cell_type": "markdown",
   "metadata": {},
   "source": [
    "**sortie et entrée aléatoire multiple:**"
   ]
  },
  {
   "cell_type": "markdown",
   "metadata": {},
   "source": [
    "Nous allons améliorer notre modèle en découpant une journée en plusieurs phases  : \n",
    "\n",
    "'bigenter' : période d'importante entrée \n",
    "\n",
    "'bigexit' : période d'importante sortie \n",
    "\n",
    "'bigstay' : période avec flux (entrée et/ou sortie) très faible \n",
    "\n",
    "'unknown' : période de flux inconnu (ce sont les heures qui restent)\n",
    "\n",
    "NB : Les phases peuvent être cumulées (attention aux incompatibilités!)"
   ]
  },
  {
   "cell_type": "code",
   "execution_count": 88,
   "metadata": {},
   "outputs": [],
   "source": [
    "# On suppose que phase est valide\n",
    "\n",
    "phase = {'bigenter': [(10,11) , (17,19)] ,  # (arrivée) , (fin des cours)\n",
    "         'bigexit' : [(12,13) , (21,22)]  , # (déjeuner), (retour chez soi)\n",
    "         'bigstay':  [(9,10) , (11,12) , (14,17)] , # (arrivée) , (cours) , (cours)\n",
    "         'unknown':  [(13,14) , (20,21)]  } "
   ]
  },
  {
   "cell_type": "code",
   "execution_count": 91,
   "metadata": {},
   "outputs": [
    {
     "data": {
      "text/plain": [
       "'bigstay'"
      ]
     },
     "execution_count": 91,
     "metadata": {},
     "output_type": "execute_result"
    }
   ],
   "source": [
    "def decoupage(phase,heure):\n",
    "    ''' dict -> str\n",
    "        retourne la phase correspondante à l'heure\n",
    "        hyp : est_ouvert(heure...) == True '''\n",
    "    for cle in phase:\n",
    "        for couple in phase[cle]:\n",
    "            debut=couple[0] \n",
    "            fin=couple[1]\n",
    "            if debut <= heure < fin:\n",
    "                return cle\n",
    "    return 'error'\n",
    "decoupage(phase,15)            \n",
    "            \n",
    "        "
   ]
  },
  {
   "cell_type": "code",
   "execution_count": null,
   "metadata": {},
   "outputs": [],
   "source": [
    "def correction(nb,bt,emax):\n",
    "    #correction des erreurs\n",
    "    if nb >= 0:\n",
    "        if nb>emax:\n",
    "            nb = emax\n",
    "    else:\n",
    "        if -nb > bt:\n",
    "            nb = -bt    "
   ]
  },
  {
   "cell_type": "code",
   "execution_count": null,
   "metadata": {},
   "outputs": [],
   "source": [
    "def nb_flux(aff,afflim,p1,p2,emax,Nom_phase):\n",
    "                \n",
    "    if Nom_phase == bigenter:#a>20\n",
    "        nbtir=100\n",
    "    \n",
    "        \n",
    "    for i in range(nbtir):\n",
    "\n",
    "\n",
    "\n",
    "    a=a-\n",
    "\n",
    "\n",
    "  \n",
    "            \n",
    "            \n",
    "            \n",
    "            \n",
    "#tirage aléatoire du nombre d'entrée\n",
    "\n",
    "# aff : le taux d'affluence actuelle\n",
    "# afflim : le taux d'affluence à partir duquel la personne hésite\n",
    "# p1 : la probabilité que la personne ne rentre pas dans la bibliothèque\n",
    "#emax : nombre de place restant\n",
    "#t: heure actuelle\n",
    "#nb: nombre de tirage\n",
    "# s: nombre de personnes qui entrent\n",
    "# phase : découpage de la journée en plusieurs phases\n",
    "\n",
    "def nb_entre(aff,afflim,p1,emax):\n",
    "    s=0\n",
    "    nb= 10\n",
    "    nb=np.random.randint(0,nb)\n",
    "    if nb>emax:\n",
    "        nb = emax\n",
    "    for i in range(nb):\n",
    "        s += alea_entree(aff,afflim,p1)\n",
    "    return s\n",
    "#idem que pour nb_entre\n",
    "\n",
    "def nb_sortie(aff,afflim,p2,bt):\n",
    "    s=0\n",
    "    nb= 10\n",
    "    nb=np.random.randint(0,nb)\n",
    "    if nb>bt:\n",
    "        nb = bt\n",
    "    for i in range(nb):\n",
    "        s += alea_sortie(aff,afflim,p2)\n",
    "    return s\n",
    "\n",
    "                    "
   ]
  },
  {
   "cell_type": "code",
   "execution_count": null,
   "metadata": {},
   "outputs": [],
   "source": [
    "# Bibliothèquetemp permet  en fonction des horaires d'ouverture de la bibliothèque\n",
    "# et de l'heure de la journée de faire des entrée/sortie multiple.\n",
    "\n",
    "#bt0: nombre initial de personne dans la bibliothèque. \n",
    "# bt : nombre de personne dans la bibliothèque à l'instant t\n",
    "#btmax: nombre de places de la bibliothèque.\n",
    "# aff : le taux d'affluence actuelle\n",
    "# afflim : le taux d'affluence à partir duquel la personne hésite\n",
    "# p1 : la probabilité que la personne ne rentre pas dans la bibliothèque\n",
    "# p2 : la probabilité que la personne ne sort pas de la bibliothèque\n",
    "# emax : nombre place restant\n",
    "\n",
    "# On fera un cycle de 24h\n",
    "\n",
    "# Exemple : horaire pour la BDL\n",
    "horaire = [(9,22) , (9,22) , (9,22) , (9,22) , (9,22) , (10,20),(0,0)]\n",
    "\n",
    "# On suppose que phase est valide.\n",
    "\n",
    "#découpage de la journée en plusieurs phases\n",
    "\n",
    "phase = {'bigenter': [(10,11) , (17,19)] ,  # (arrivée) , (fin des cours)\n",
    "         'bigexit' : [(12,13) , (21,22)]  , # (déjeuner), (retour chez soi)\n",
    "         'bigstay':  [(9,10) , (11,12) , (14,17)] , # (arrivée) , (cours) , (cours)\n",
    "         'unknown':  [(13,14) , (20,21)]  } \n",
    "\n",
    "def bibliothèquetemp(bt0,btmax,afflim,p1,p2,jour):\n",
    "                    #(int,int,float,float,float,int)\n",
    "    ''' hyp : bt0 <= bt'''\n",
    "    bt=bt0\n",
    "    aff=bt/btmax\n",
    "    L=[bt0]\n",
    "    for t in range(24):\n",
    "        if est_ouvert(t,jour,horaire):\n",
    "            Nom_phase = decoupage(phase,t)\n",
    "            \n",
    "            emax = btmax-bt\n",
    "            \n",
    "            #regarder nb_flux()\n",
    "            nb=nb_flux(aff,afflim,p1,p2,emax,Nom_phase,t,emax)\n",
    "            \n",
    "               \n",
    "                \n",
    "        else:\n",
    "            bt=0\n",
    "        L.append(bt)\n",
    "        aff=bt/btmax\n",
    "    return L\n",
    "        "
   ]
  },
  {
   "cell_type": "code",
   "execution_count": null,
   "metadata": {},
   "outputs": [],
   "source": []
  }
 ],
 "metadata": {
  "kernelspec": {
   "display_name": "Python 3",
   "language": "python",
   "name": "python3"
  },
  "language_info": {
   "codemirror_mode": {
    "name": "ipython",
    "version": 3
   },
   "file_extension": ".py",
   "mimetype": "text/x-python",
   "name": "python",
   "nbconvert_exporter": "python",
   "pygments_lexer": "ipython3",
   "version": "3.5.3"
  }
 },
 "nbformat": 4,
 "nbformat_minor": 2
}
