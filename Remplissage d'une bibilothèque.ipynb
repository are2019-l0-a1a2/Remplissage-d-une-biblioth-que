{
 "cells": [
  {
   "cell_type": "code",
   "execution_count": 9,
   "metadata": {},
   "outputs": [],
   "source": [
    "%matplotlib inline     \n",
    "# ^Sans animations\n",
    "# %matplotlib notebook \n",
    "# ^Avec animations\n",
    "import numpy as np\n",
    "import matplotlib.pyplot as plt\n",
    "from matplotlib import animation"
   ]
  },
  {
   "cell_type": "markdown",
   "metadata": {},
   "source": [
    " **Remplissage d'une bibliothèque**\n",
    " "
   ]
  },
  {
   "cell_type": "markdown",
   "metadata": {},
   "source": [
    "Nous allons modeliser l'évolution de l'affluence dans la bibliothèque des Licences au cours du temps."
   ]
  },
  {
   "cell_type": "markdown",
   "metadata": {},
   "source": [
    "Nous disposons des horaires et du nombre de place de la bibliothèque "
   ]
  },
  {
   "cell_type": "code",
   "execution_count": 3,
   "metadata": {},
   "outputs": [],
   "source": [
    "# aff : le taux d'affluence actuelle\n",
    "# afflim : le taux d'affluence à partir duquel la personne hésite\n",
    "# p1 : la probabilité que la personne ne rentre pas dans la bibliothèque\n",
    "\n",
    "def alea_entree(aff,afflim,p1):\n",
    "    '''\n",
    "    float->int\n",
    "    en fonction du taux d'affluence et d'une probabilité,retourne 1 si l'élève rentre, sinon 0.\n",
    "    '''\n",
    "    if aff>=afflim :\n",
    "        u = np.random.random()\n",
    "        if u < p1: \n",
    "            return 0\n",
    "    return 1"
   ]
  },
  {
   "cell_type": "code",
   "execution_count": 4,
   "metadata": {},
   "outputs": [],
   "source": [
    "# p2 : la probabilité que la personne ne sort pas dans la bibliothèque\n",
    "p2 =.95\n",
    "def alea_sortie(aff,afflim,p2):\n",
    "    '''\n",
    "    float->int\n",
    "    en fonction du taux d'affluence et d'une probabilité p2,retourne 1 si l'élève sort, sinon 0 0.\n",
    "    '''\n",
    "    if aff>=afflim :\n",
    "        u = np.random.random()\n",
    "        if u < p2: \n",
    "            return 0\n",
    "        else:\n",
    "            return 1\n",
    "    return 0"
   ]
  },
  {
   "cell_type": "code",
   "execution_count": 14,
   "metadata": {},
   "outputs": [],
   "source": [
    "def bibliothèque(bt0,btmax,afflim,p1,p2,n):\n",
    "    ''' hyp : bt0 <= bt'''\n",
    "    bt=bt0\n",
    "    aff=bt/btmax\n",
    "    L=[bt0]\n",
    "    for i in range(n):\n",
    "        a = alea_entree(aff,afflim,p1)\n",
    "        b = alea_sortie(aff,afflim,p2)\n",
    "        if bt < btmax:\n",
    "            bt += a\n",
    "        if bt>0:\n",
    "            bt-=b\n",
    "        L.append(bt)\n",
    "        aff=bt/btmax\n",
    "    return L\n",
    "        \n",
    "        \n",
    "        \n",
    "        "
   ]
  },
  {
   "cell_type": "markdown",
   "metadata": {},
   "source": [
    "affichons la courbe"
   ]
  },
  {
   "cell_type": "code",
   "execution_count": 23,
   "metadata": {},
   "outputs": [
    {
     "data": {
      "image/png": "[encoded data removed]",
      "text/plain": [
       "<Figure size 432x288 with 1 Axes>"
      ]
     },
     "metadata": {},
     "output_type": "display_data"
    }
   ],
   "source": [
    "def plotb0(L):\n",
    "    plt.figure()\n",
    "    plt.plot(L)\n",
    "    plt.ylabel(\"Nombre de personne dans la bibliothèque\")\n",
    "    plt.xlabel(\"nombre de tour\")\n",
    "    plt.show()\n",
    "    return\n",
    "plotb0(bibliothèque(700,745,.8,.9,.95,200))"
   ]
  },
  {
   "cell_type": "markdown",
   "metadata": {},
   "source": [
    "Ici nous etudions l'evolution du remplissage de la bibliothèque en fonction du temps "
   ]
  },
  {
   "cell_type": "code",
   "execution_count": 25,
   "metadata": {},
   "outputs": [],
   "source": [
    "def est_ouvert(h):\n",
    "    '''int-> bool\n",
    "    indique si la bibliotheque est ouverte ou fermée en fonction de l'heure actuel h et des horraires '''\n",
    "    return 22>h>=9\n",
    "    "
   ]
  },
  {
   "cell_type": "code",
   "execution_count": 216,
   "metadata": {},
   "outputs": [
    {
     "name": "stdout",
     "output_type": "stream",
     "text": [
      "True\n"
     ]
    }
   ],
   "source": [
    "print(est_ouvert(11))"
   ]
  },
  {
   "cell_type": "markdown",
   "metadata": {},
   "source": [
    "Nous modelisons la fonction suivante en tenant compte du paramètre horaire "
   ]
  },
  {
   "cell_type": "code",
   "execution_count": 64,
   "metadata": {},
   "outputs": [],
   "source": [
    "def bibliothèquetemp(bt0,btmax,afflim,p1,p2):\n",
    "    ''' hyp : bt0 <= bt'''\n",
    "    bt=bt0\n",
    "    aff=bt/btmax\n",
    "    L=[bt0]\n",
    "    for t in range(24):\n",
    "        if est_ouvert(t):\n",
    "            emax = btmax-bt\n",
    "            a = nb_entre(aff,afflim,p1,emax,t)\n",
    "            b = nb_sortie(aff,afflim,p2,bt)\n",
    "            if bt < btmax:\n",
    "                bt += a\n",
    "            if bt>0:\n",
    "                bt-=b\n",
    "        else:\n",
    "            bt=0\n",
    "        L.append(bt)\n",
    "        aff=bt/btmax\n",
    "    return L\n",
    "        \n",
    "    \n"
   ]
  },
  {
   "cell_type": "markdown",
   "metadata": {},
   "source": [
    "affichons la courbe"
   ]
  },
  {
   "cell_type": "code",
   "execution_count": 69,
   "metadata": {},
   "outputs": [
    {
     "ename": "ValueError",
     "evalue": "low >= high",
     "output_type": "error",
     "traceback": [
      "\u001b[0;31m---------------------------------------------------------------------------\u001b[0m",
      "\u001b[0;31mValueError\u001b[0m                                Traceback (most recent call last)",
      "\u001b[0;32m<ipython-input-69-74915765098e>\u001b[0m in \u001b[0;36m<module>\u001b[0;34m()\u001b[0m\n\u001b[1;32m      6\u001b[0m     \u001b[0mplt\u001b[0m\u001b[0;34m.\u001b[0m\u001b[0mshow\u001b[0m\u001b[0;34m(\u001b[0m\u001b[0;34m)\u001b[0m\u001b[0;34m\u001b[0m\u001b[0m\n\u001b[1;32m      7\u001b[0m     \u001b[0;32mreturn\u001b[0m\u001b[0;34m\u001b[0m\u001b[0m\n\u001b[0;32m----> 8\u001b[0;31m \u001b[0mplotb1\u001b[0m\u001b[0;34m(\u001b[0m\u001b[0mbibliothèquetemp\u001b[0m\u001b[0;34m(\u001b[0m\u001b[0;36m0\u001b[0m\u001b[0;34m,\u001b[0m\u001b[0;36m745\u001b[0m\u001b[0;34m,\u001b[0m\u001b[0;36m.8\u001b[0m\u001b[0;34m,\u001b[0m\u001b[0;36m.9\u001b[0m\u001b[0;34m,\u001b[0m\u001b[0;36m.95\u001b[0m\u001b[0;34m)\u001b[0m\u001b[0;34m)\u001b[0m\u001b[0;34m\u001b[0m\u001b[0m\n\u001b[0m",
      "\u001b[0;32m<ipython-input-64-3646f57f322c>\u001b[0m in \u001b[0;36mbibliothèquetemp\u001b[0;34m(bt0, btmax, afflim, p1, p2)\u001b[0m\n\u001b[1;32m      8\u001b[0m             \u001b[0memax\u001b[0m \u001b[0;34m=\u001b[0m \u001b[0mbtmax\u001b[0m\u001b[0;34m-\u001b[0m\u001b[0mbt\u001b[0m\u001b[0;34m\u001b[0m\u001b[0m\n\u001b[1;32m      9\u001b[0m             \u001b[0ma\u001b[0m \u001b[0;34m=\u001b[0m \u001b[0mnb_entre\u001b[0m\u001b[0;34m(\u001b[0m\u001b[0maff\u001b[0m\u001b[0;34m,\u001b[0m\u001b[0mafflim\u001b[0m\u001b[0;34m,\u001b[0m\u001b[0mp1\u001b[0m\u001b[0;34m,\u001b[0m\u001b[0memax\u001b[0m\u001b[0;34m,\u001b[0m\u001b[0mt\u001b[0m\u001b[0;34m)\u001b[0m\u001b[0;34m\u001b[0m\u001b[0m\n\u001b[0;32m---> 10\u001b[0;31m             \u001b[0mb\u001b[0m \u001b[0;34m=\u001b[0m \u001b[0mnb_sortie\u001b[0m\u001b[0;34m(\u001b[0m\u001b[0maff\u001b[0m\u001b[0;34m,\u001b[0m\u001b[0mafflim\u001b[0m\u001b[0;34m,\u001b[0m\u001b[0mp2\u001b[0m\u001b[0;34m,\u001b[0m\u001b[0mbt\u001b[0m\u001b[0;34m)\u001b[0m\u001b[0;34m\u001b[0m\u001b[0m\n\u001b[0m\u001b[1;32m     11\u001b[0m             \u001b[0;32mif\u001b[0m \u001b[0mbt\u001b[0m \u001b[0;34m<\u001b[0m \u001b[0mbtmax\u001b[0m\u001b[0;34m:\u001b[0m\u001b[0;34m\u001b[0m\u001b[0m\n\u001b[1;32m     12\u001b[0m                 \u001b[0mbt\u001b[0m \u001b[0;34m+=\u001b[0m \u001b[0ma\u001b[0m\u001b[0;34m\u001b[0m\u001b[0m\n",
      "\u001b[0;32m<ipython-input-66-8a3367c65cee>\u001b[0m in \u001b[0;36mnb_sortie\u001b[0;34m(aff, afflim, p1, bt)\u001b[0m\n\u001b[1;32m      2\u001b[0m     \u001b[0ms\u001b[0m\u001b[0;34m=\u001b[0m\u001b[0;36m0\u001b[0m\u001b[0;34m\u001b[0m\u001b[0m\n\u001b[1;32m      3\u001b[0m     \u001b[0mnb\u001b[0m\u001b[0;34m=\u001b[0m\u001b[0;36m0\u001b[0m\u001b[0;34m\u001b[0m\u001b[0m\n\u001b[0;32m----> 4\u001b[0;31m     \u001b[0mnb\u001b[0m\u001b[0;34m=\u001b[0m\u001b[0mnp\u001b[0m\u001b[0;34m.\u001b[0m\u001b[0mrandom\u001b[0m\u001b[0;34m.\u001b[0m\u001b[0mrandint\u001b[0m\u001b[0;34m(\u001b[0m\u001b[0;36m0\u001b[0m\u001b[0;34m,\u001b[0m\u001b[0mnb\u001b[0m\u001b[0;34m)\u001b[0m\u001b[0;34m\u001b[0m\u001b[0m\n\u001b[0m\u001b[1;32m      5\u001b[0m     \u001b[0;32mif\u001b[0m \u001b[0mnb\u001b[0m\u001b[0;34m>\u001b[0m\u001b[0memax\u001b[0m\u001b[0;34m:\u001b[0m\u001b[0;34m\u001b[0m\u001b[0m\n\u001b[1;32m      6\u001b[0m         \u001b[0mnb\u001b[0m \u001b[0;34m=\u001b[0m \u001b[0memax\u001b[0m\u001b[0;34m\u001b[0m\u001b[0m\n",
      "\u001b[0;32mmtrand.pyx\u001b[0m in \u001b[0;36mmtrand.RandomState.randint\u001b[0;34m()\u001b[0m\n",
      "\u001b[0;31mValueError\u001b[0m: low >= high"
     ]
    }
   ],
   "source": [
    "def plotb1(L):\n",
    "    plt.figure()\n",
    "    plt.plot(L)\n",
    "    plt.ylabel(\"Nombre de personne dans la bibliothèque\")\n",
    "    plt.xlabel(\"nombre d'heures\")\n",
    "    plt.show()\n",
    "    return\n",
    "plotb1(bibliothèquetemp(0,745,.8,.9,.95))"
   ]
  },
  {
   "cell_type": "markdown",
   "metadata": {},
   "source": [
    "#t0,btmax,afflim,p1,p2,n\n",
    "\n",
    "nous voyons que plus la probabilité p1 de ne pas entrer est plus grande\n"
   ]
  },
  {
   "cell_type": "markdown",
   "metadata": {},
   "source": [
    "**sortie et entrée aléatoire multiple:**"
   ]
  },
  {
   "cell_type": "code",
   "execution_count": 67,
   "metadata": {},
   "outputs": [],
   "source": [
    "\n",
    "def nb_entre(aff,afflim,p1,emax,t):\n",
    "    s=0\n",
    "    nb=0\n",
    "    nb=100#aff_actu(nb,t)\n",
    "    nb=np.random.randint(0,nb)\n",
    "    if nb>emax:\n",
    "        nb = emax\n",
    "    for i in range(nb):\n",
    "        s += alea_entree(aff,afflim,p1)\n",
    "    return s\n"
   ]
  },
  {
   "cell_type": "code",
   "execution_count": 45,
   "metadata": {},
   "outputs": [],
   "source": [
    "def aff_actu(x,bt):\n",
    "    #on pourra modeliser avec une bibliothèque pour chaque heure\n",
    "    return 100"
   ]
  },
  {
   "cell_type": "code",
   "execution_count": 66,
   "metadata": {},
   "outputs": [],
   "source": [
    "def nb_sortie(aff,afflim,p1,bt):\n",
    "    s=0\n",
    "    nb=0\n",
    "    nb=np.random.randint(0,nb)\n",
    "    if nb>emax:\n",
    "        nb = emax\n",
    "    for i in range(nb):\n",
    "        s += alea_sortie(aff,afflim,p1)\n",
    "    return s\n"
   ]
  }
 ],
 "metadata": {
  "kernelspec": {
   "display_name": "Python 3",
   "language": "python",
   "name": "python3"
  },
  "language_info": {
   "codemirror_mode": {
    "name": "ipython",
    "version": 3
   },
   "file_extension": ".py",
   "mimetype": "text/x-python",
   "name": "python",
   "nbconvert_exporter": "python",
   "pygments_lexer": "ipython3",
   "version": "3.5.3"
  }
 },
 "nbformat": 4,
 "nbformat_minor": 2
}
