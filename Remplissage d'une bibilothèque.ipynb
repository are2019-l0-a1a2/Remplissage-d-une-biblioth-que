{
 "cells": [
  {
   "cell_type": "code",
   "execution_count": 1,
   "metadata": {},
   "outputs": [],
   "source": [
    "%matplotlib inline     \n",
    "# ^Sans animations\n",
    "# %matplotlib notebook \n",
    "# ^Avec animations\n",
    "import numpy as np\n",
    "import matplotlib.pyplot as plt\n",
    "from matplotlib import animation"
   ]
  },
  {
   "cell_type": "markdown",
   "metadata": {},
   "source": [
    " **Remplissage d'une bibliothèque**\n",
    " "
   ]
  },
  {
   "cell_type": "markdown",
   "metadata": {},
   "source": [
    "Nous allons modeliser l'évolution de l'affluence dans la bibliothèque des Licences au cours du temps."
   ]
  },
  {
   "cell_type": "markdown",
   "metadata": {},
   "source": [
    "Nous disposons des horaires et du nombre de place de la bibliothèque "
   ]
  },
  {
   "cell_type": "code",
   "execution_count": 2,
   "metadata": {},
   "outputs": [],
   "source": [
    "# aff : le taux d'affluence actuelle\n",
    "# afflim : le taux d'affluence à partir duquel la personne hésite\n",
    "# p1 : la probabilité que la personne ne rentre pas dans la bibliothèque\n",
    "\n",
    "def alea_entree(aff,afflim,p1):\n",
    "    '''\n",
    "    float->int\n",
    "    en fonction du taux d'affluence et d'une probabilité ,retourne 1 si l'élève rentre, sinon 0.\n",
    "    '''\n",
    "    if aff>=afflim :\n",
    "        u = np.random.random() # u est un nombre aléatoire entre 0 et 1\n",
    "        if u < p1: \n",
    "            return 0\n",
    "    return 1"
   ]
  },
  {
   "cell_type": "code",
   "execution_count": 3,
   "metadata": {},
   "outputs": [],
   "source": [
    "# aff : le taux d'affluence actuelle\n",
    "# afflim : le taux d'affluence à partir duquel la personne hésite\n",
    "# p2 : la probabilité que la personne ne sort pas de la bibliothèque\n",
    "\n",
    "p2 =.95\n",
    "def alea_sortie(aff,afflim,p2):\n",
    "    '''\n",
    "    float->int\n",
    "    en fonction du taux d'affluence et d'une probabilité p2,retourne 1 si l'élève sort, sinon 0 0.\n",
    "    '''\n",
    "    if aff>=afflim :\n",
    "        u = np.random.random()  # u est un nombre aléatoire entre 0 et 1\n",
    "        if u < p2: \n",
    "            return 0\n",
    "        else:\n",
    "            return 1\n",
    "    return 0"
   ]
  },
  {
   "cell_type": "code",
   "execution_count": 4,
   "metadata": {},
   "outputs": [],
   "source": [
    "#bt0: nombre initial de personne dans la bibliothèque. \n",
    "#btmax: nombre de places de la bibliothèque.\n",
    "# aff : le taux d'affluence actuelle\n",
    "# afflim : le taux d'affluence à partir duquel la personne hésite\n",
    "# p1 : la probabilité que la personne ne rentre pas dans la bibliothèque\n",
    "# p2 : la probabilité que la personne ne sort pas de la bibliothèque\n",
    "#n : nombre de cycle entrée/sortie\n",
    "\n",
    "def bibliothèque(bt0,btmax,afflim,p1,p2,n):\n",
    "    ''' hyp : bt0 <= btmax\n",
    "        Evolution du nombre de place occupé dans la bibliothèque.'''\n",
    "    \n",
    "    bt=bt0\n",
    "    aff=bt/btmax\n",
    "    L=[bt0] #Evolution de l'occupation\n",
    "    for i in range(n):\n",
    "        a = alea_entree(aff,afflim,p1)\n",
    "        b = alea_sortie(aff,afflim,p2)\n",
    "        if bt < btmax:\n",
    "            bt += a\n",
    "        if bt>0:\n",
    "            bt-=b\n",
    "        L.append(bt)\n",
    "        aff=bt/btmax\n",
    "    return L\n",
    "        \n",
    "        \n",
    "        \n",
    "        "
   ]
  },
  {
   "cell_type": "markdown",
   "metadata": {},
   "source": [
    "affichons la courbe de l'évolution de l'occupation de la bibliothèque sur un nombre de tour"
   ]
  },
  {
   "cell_type": "code",
   "execution_count": 5,
   "metadata": {},
   "outputs": [
    {
     "data": {
      "image/png": "[encoded data removed]",
      "text/plain": [
       "<Figure size 432x288 with 1 Axes>"
      ]
     },
     "metadata": {},
     "output_type": "display_data"
    }
   ],
   "source": [
    "def plotb0(L):\n",
    "    plt.figure()\n",
    "    plt.plot(L)\n",
    "    plt.ylabel(\"Nombre de personne dans la bibliothèque\")\n",
    "    plt.xlabel(\"nombre de tour\")\n",
    "    plt.show()\n",
    "    return\n",
    "plotb0(bibliothèque(700,745,.8,.9,.95,200))"
   ]
  },
  {
   "cell_type": "markdown",
   "metadata": {},
   "source": [
    "Ici nous etudions l'evolution du remplissage de la bibliothèque en fonction du temps "
   ]
  },
  {
   "cell_type": "code",
   "execution_count": 26,
   "metadata": {},
   "outputs": [],
   "source": [
    "# Exemple : horaire pour la BDL\n",
    "horaire = [(9,22) , (9,22) , (9,22) , (9,22) , (9,22) , (10,20),(0,0)]\n",
    "\n",
    "def est_ouvert(heure,jour,horaire):\n",
    "    '''float * int * dict[tuple] -> bool\n",
    "    indique si la bibliotheque est ouverte ou fermée en fonction de l'heure actuelle 'heure', \n",
    "    du jour de la semaine 'jour' et des horaires d'ouverture 'horaire'  '''\n",
    "    \n",
    "    date = horaire[jour]\n",
    "    if date!= (0,0):\n",
    "        ouverture = date[0]\n",
    "        fermeture = date[1]\n",
    "        return ouverture <= heure < fermeture\n",
    "    return False"
   ]
  },
  {
   "cell_type": "code",
   "execution_count": 27,
   "metadata": {},
   "outputs": [
    {
     "name": "stdout",
     "output_type": "stream",
     "text": [
      "False\n"
     ]
    }
   ],
   "source": [
    "# Exemple : On teste si la bibliothèque est ouverte le lundi à 11h.\n",
    "print( est_ouvert(23,0,horaire) )"
   ]
  },
  {
   "cell_type": "markdown",
   "metadata": {},
   "source": [
    "Nouvelle modélisation en tenant compte du paramètre horaire.\n",
    "De plus, nous introduirons trois nouvelles fonctions : nb_entre, nb_sortie et aff_actu.\n"
   ]
  },
  {
   "cell_type": "code",
   "execution_count": 114,
   "metadata": {},
   "outputs": [],
   "source": [
    "#affluence selon l'heure et le jour\n",
    "\n",
    "semaine = {'lundi' : [0.17, 0.33, 0.42, 0.5, 0.58, 0.58, 0.67, 0.75, 0.83, 0.92, 0.75, 0.5, 0.25] , \n",
    " 'mardi' : [0.08, 0.17, 0.25, 0.33, 0.42, 0.42, 0.42, 0.5, 0.58, 0.58, 0.5, 0.33, 0.17] , \n",
    " 'mercredi' : [0.17, 0.33, 0.42, 0.5, 0.5, 0.5, 0.58, 0.58, 0.58, 0.5, 0.33, 0.25, 0.08] ,\n",
    " 'jeudi' : [0.08, 0.17, 0.25, 0.33, 0.5, 0.58, 0.5, 0.5, 0.67, 0.75, 0.67, 0.42, 0.17] , \n",
    " 'vendredi' : [0.08, 0.25, 0.5, 0.58, 0.67, 0.83, 0.83, 0.67, 0.67, 0.67, 0.67, 0.42, 0.17] , \n",
    " 'samedi' : [0.25, 0.75, 0.58, 0.75, 0.92, 0.83, 0.83, 1.0, 0.75, 0.25] }"
   ]
  },
  {
   "cell_type": "code",
   "execution_count": 118,
   "metadata": {},
   "outputs": [
    {
     "ename": "KeyError",
     "evalue": "5",
     "output_type": "error",
     "traceback": [
      "\u001b[0;31m---------------------------------------------------------------------------\u001b[0m",
      "\u001b[0;31mKeyError\u001b[0m                                  Traceback (most recent call last)",
      "\u001b[0;32m<ipython-input-118-f5d8f6b977f9>\u001b[0m in \u001b[0;36m<module>\u001b[0;34m()\u001b[0m\n\u001b[1;32m      4\u001b[0m     \u001b[0mprint\u001b[0m \u001b[0;34m(\u001b[0m\u001b[0mx\u001b[0m\u001b[0;34m)\u001b[0m\u001b[0;34m\u001b[0m\u001b[0m\n\u001b[1;32m      5\u001b[0m     \u001b[0;32mreturn\u001b[0m\u001b[0;34m\u001b[0m\u001b[0m\n\u001b[0;32m----> 6\u001b[0;31m \u001b[0maff_actu\u001b[0m\u001b[0;34m(\u001b[0m\u001b[0;36m0\u001b[0m\u001b[0;34m,\u001b[0m\u001b[0;36m5\u001b[0m\u001b[0;34m)\u001b[0m\u001b[0;34m\u001b[0m\u001b[0m\n\u001b[0m",
      "\u001b[0;32m<ipython-input-118-f5d8f6b977f9>\u001b[0m in \u001b[0;36maff_actu\u001b[0;34m(heure, jour)\u001b[0m\n\u001b[1;32m      1\u001b[0m \u001b[0;32mdef\u001b[0m \u001b[0maff_actu\u001b[0m\u001b[0;34m(\u001b[0m\u001b[0mheure\u001b[0m\u001b[0;34m,\u001b[0m\u001b[0mjour\u001b[0m\u001b[0;34m)\u001b[0m\u001b[0;34m:\u001b[0m\u001b[0;34m\u001b[0m\u001b[0m\n\u001b[1;32m      2\u001b[0m     \u001b[0;31m# modelise le nombre de cycle entrée/sortie en fonction de l'heure.\u001b[0m\u001b[0;34m\u001b[0m\u001b[0;34m\u001b[0m\u001b[0m\n\u001b[0;32m----> 3\u001b[0;31m     \u001b[0mx\u001b[0m\u001b[0;34m=\u001b[0m\u001b[0msemaine\u001b[0m\u001b[0;34m[\u001b[0m\u001b[0mjour\u001b[0m\u001b[0;34m]\u001b[0m\u001b[0;34m\u001b[0m\u001b[0m\n\u001b[0m\u001b[1;32m      4\u001b[0m     \u001b[0mprint\u001b[0m \u001b[0;34m(\u001b[0m\u001b[0mx\u001b[0m\u001b[0;34m)\u001b[0m\u001b[0;34m\u001b[0m\u001b[0m\n\u001b[1;32m      5\u001b[0m     \u001b[0;32mreturn\u001b[0m\u001b[0;34m\u001b[0m\u001b[0m\n",
      "\u001b[0;31mKeyError\u001b[0m: 5"
     ]
    }
   ],
   "source": [
    "def aff_actu(heure,jour):\n",
    "    # modelise le nombre de cycle entrée/sortie en fonction de l'heure.\n",
    "    #convertir jours en int\n",
    "    x=semaine[jours].values\n",
    "    print (x)\n",
    "    return \n",
    "aff_actu(0,lundi)"
   ]
  },
  {
   "cell_type": "code",
   "execution_count": 9,
   "metadata": {},
   "outputs": [],
   "source": [
    "#tirage aléatoire du nombre d'entrée\n",
    "\n",
    "# aff : le taux d'affluence actuelle\n",
    "# afflim : le taux d'affluence à partir duquel la personne hésite\n",
    "# p1 : la probabilité que la personne ne rentre pas dans la bibliothèque\n",
    "#emax : nombre de place restant\n",
    "#t: heure actuelle\n",
    "#nb: nombre de tirage\n",
    "# s: nombre de personnes qui entrent\n",
    "\n",
    "def nb_entre(aff,afflim,p1,emax,t):\n",
    "    s=0\n",
    "    nb= 10\n",
    "    nb=np.random.randint(0,nb)\n",
    "    if nb>emax:\n",
    "        nb = emax\n",
    "    for i in range(nb):\n",
    "        s += alea_entree(aff,afflim,p1)\n",
    "    return s\n"
   ]
  },
  {
   "cell_type": "code",
   "execution_count": 10,
   "metadata": {},
   "outputs": [],
   "source": [
    "#idem que pour nb_entre\n",
    "\n",
    "def nb_sortie(aff,afflim,p2,bt):\n",
    "    s=0\n",
    "    nb= 10\n",
    "    nb=np.random.randint(0,nb)\n",
    "    if nb>bt:\n",
    "        nb = bt\n",
    "    for i in range(nb):\n",
    "        s += alea_sortie(aff,afflim,p2)\n",
    "    return s\n"
   ]
  },
  {
   "cell_type": "code",
   "execution_count": 11,
   "metadata": {},
   "outputs": [],
   "source": [
    "# Bibliothèquetemp permet  en fonction des horaires d'ouverture de la bibliothèque\n",
    "# et de l'heure de la journée de faire des entrée/sortie multiple.\n",
    "\n",
    "#bt0: nombre initial de personne dans la bibliothèque. \n",
    "# bt : nombre de personne dans la bibliothèque à l'instant t\n",
    "#btmax: nombre de places de la bibliothèque.\n",
    "# aff : le taux d'affluence actuelle\n",
    "# afflim : le taux d'affluence à partir duquel la personne hésite\n",
    "# p1 : la probabilité que la personne ne rentre pas dans la bibliothèque\n",
    "# p2 : la probabilité que la personne ne sort pas de la bibliothèque\n",
    "# On fera un cycle de 24h\n",
    "\n",
    "def bibliothèquetemp(bt0,btmax,afflim,p1,p2):\n",
    "    ''' hyp : bt0 <= bt'''\n",
    "    bt=bt0\n",
    "    aff=bt/btmax\n",
    "    L=[bt0]\n",
    "    for t in range(24):\n",
    "        if est_ouvert(t):\n",
    "            emax = btmax-bt\n",
    "            a = nb_entre(aff,afflim,p1,emax,t)\n",
    "            b = nb_sortie(aff,afflim,p2,bt)\n",
    "            if bt < btmax:\n",
    "                bt += a\n",
    "            if bt>0:\n",
    "                bt-=b\n",
    "        else:\n",
    "            bt=0\n",
    "        L.append(bt)\n",
    "        aff=bt/btmax\n",
    "    return L\n",
    "        \n",
    "    \n"
   ]
  },
  {
   "cell_type": "markdown",
   "metadata": {},
   "source": [
    "affichons la courbe"
   ]
  },
  {
   "cell_type": "code",
   "execution_count": 12,
   "metadata": {},
   "outputs": [
    {
     "data": {
      "image/png": "[encoded data removed]",
      "text/plain": [
       "<Figure size 432x288 with 1 Axes>"
      ]
     },
     "metadata": {},
     "output_type": "display_data"
    }
   ],
   "source": [
    "def plotb1(L):\n",
    "    plt.figure()\n",
    "    plt.plot(L)\n",
    "    plt.ylabel(\"Nombre de personne dans la bibliothèque\")\n",
    "    plt.xlabel(\"nombre d'heures\")\n",
    "    plt.show()\n",
    "    return \n",
    "plotb1(bibliothèquetemp(0,745,.8,.9,.95))\n",
    "                      #(bt0,btmax,afflim,p1,p2)"
   ]
  },
  {
   "cell_type": "markdown",
   "metadata": {},
   "source": [
    "#t0,btmax,afflim,p1,p2,n\n",
    "\n",
    "nous voyons que plus la probabilité p1 de ne pas entrer est plus grande\n"
   ]
  },
  {
   "cell_type": "markdown",
   "metadata": {},
   "source": [
    "**sortie et entrée aléatoire multiple:**"
   ]
  },
  {
   "cell_type": "code",
   "execution_count": 97,
   "metadata": {},
   "outputs": [
    {
     "name": "stdout",
     "output_type": "stream",
     "text": [
      "[0.17, 0.33, 0.42, 0.5, 0.58, 0.58, 0.67, 0.75, 0.83, 0.92, 0.75, 0.5, 0.25]\n",
      "\n",
      "[0.08, 0.17, 0.25, 0.33, 0.42, 0.42, 0.42, 0.5, 0.58, 0.58, 0.5, 0.33, 0.17]\n",
      "\n",
      "[0.17, 0.33, 0.42, 0.5, 0.5, 0.5, 0.58, 0.58, 0.58, 0.5, 0.33, 0.25, 0.08]\n",
      "\n",
      "[0.08, 0.17, 0.25, 0.33, 0.5, 0.58, 0.5, 0.5, 0.67, 0.75, 0.67, 0.42, 0.17]\n",
      "\n",
      "[0.08, 0.25, 0.5, 0.58, 0.67, 0.83, 0.83, 0.67, 0.67, 0.67, 0.67, 0.42, 0.17]\n",
      "\n",
      "[0.25, 0.75, 0.58, 0.75, 0.92, 0.83, 0.83, 1.0, 0.75, 0.25]\n",
      "\n"
     ]
    }
   ],
   "source": [
    "for i in jour:\n",
    "    for j in range(len(i)):\n",
    "        i[j] = round(i[j],2)\n",
    "for i in jour:\n",
    "    print(i)\n",
    "    print()"
   ]
  },
  {
   "cell_type": "code",
   "execution_count": null,
   "metadata": {},
   "outputs": [],
   "source": []
  }
 ],
 "metadata": {
  "kernelspec": {
   "display_name": "Python 3",
   "language": "python",
   "name": "python3"
  },
  "language_info": {
   "codemirror_mode": {
    "name": "ipython",
    "version": 3
   },
   "file_extension": ".py",
   "mimetype": "text/x-python",
   "name": "python",
   "nbconvert_exporter": "python",
   "pygments_lexer": "ipython3",
   "version": "3.5.3"
  }
 },
 "nbformat": 4,
 "nbformat_minor": 2
}
